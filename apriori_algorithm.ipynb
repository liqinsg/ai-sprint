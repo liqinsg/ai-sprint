{
 "cells": [
  {
   "cell_type": "code",
   "execution_count": null,
   "id": "b01e8a4c",
   "metadata": {},
   "outputs": [],
   "source": [
    "# Importing required libraries\n",
    "import pandas as pd\n",
    "import plotly.express as px\n",
    "from mlxtend.frequent_patterns import apriori, association_rules\n",
    "from mlxtend.preprocessing import TransactionEncoder"
   ]
  },
  {
   "cell_type": "code",
   "execution_count": null,
   "id": "cf4abe1c",
   "metadata": {},
   "outputs": [
    {
     "name": "stdout",
     "output_type": "stream",
     "text": [
      "Frequent Itemsets:\n",
      "    support         itemsets\n",
      "0     0.50           (Milk)\n",
      "1     0.75          (Bread)\n",
      "2     0.75         (Butter)\n",
      "3     0.50  (Bread, Butter)\n",
      "\n",
      "Association Rules:\n",
      " Empty DataFrame\n",
      "Columns: [antecedents, consequents, support, confidence, lift]\n",
      "Index: []\n"
     ]
    },
    {
     "name": "stderr",
     "output_type": "stream",
     "text": [
      "/home/qili/miniconda3/envs/ai-sprint/lib/python3.10/site-packages/mlxtend/frequent_patterns/fpcommon.py:161: DeprecationWarning: DataFrames with non-bool types result in worse computationalperformance and their support might be discontinued in the future.Please use a DataFrame with bool type\n",
      "  warnings.warn(\n"
     ]
    }
   ],
   "source": [
    "# Sample dataset\n",
    "data = {'Transaction': [1, 2, 3, 4],\n",
    "       'Milk': [1, 0, 1, 0],\n",
    "       'Bread': [1, 1, 0, 1],\n",
    "       'Butter': [0, 1, 1, 1]}\n",
    "df = pd.DataFrame(data).set_index('Transaction')\n",
    "# Step 1: Apply Apriori to find frequent itemsets\n",
    "frequent_itemsets = apriori(df, min_support=0.5, use_colnames=True)\n",
    "print(\"Frequent Itemsets:\\n\", frequent_itemsets)\n",
    "# Step 2: Generate association rules\n",
    "rules = association_rules(frequent_itemsets, metric=\"confidence\", min_threshold=0.7)\n",
    "print(\"\\nAssociation Rules:\\n\", rules[['antecedents', 'consequents', 'support', 'confidence', 'lift']])"
   ]
  },
  {
   "cell_type": "markdown",
   "id": "7b259064",
   "metadata": {},
   "source": [
    "In the penguin-themed souvenir shop.  It has transaction data representing which items customers purchased together. Each transaction is a collection of items (e.g., Penguin Plush Toy, Penguin Mug, etc.).\n",
    "1. **Clustering:**\n",
    "* *Goal*: Group similar transactions based on the items purchased.\n",
    "* *Method*: Techniques like K-means clustering could be applied to identify groups of similar purchase behaviors. For example, customers who frequently buy plush toys might cluster together, while those who buy calendars and mugs form another group.\n",
    "2. **Association Rule Learning:**\n",
    "* *Goal*: Discover relationships between items purchased together.\n",
    "* *Method*: This is what you did with the Apriori algorithm, which is a form of unsupervised learning. It identified that customers who buy a Penguin Mug are also likely to buy a Penguin Plush Toy. This reveals a hidden pattern of purchasing behavior that can inform marketing strategies.\n",
    "\n",
    "**Insights Gained**\n",
    "1. *Targeted Marketing:* By understanding which items are frequently purchased together, the shop can create targeted marketing campaigns. For instance, they might offer discounts on plush toys when a customer buys a mug.\n",
    "2. *Inventory Management:* The shop can optimize inventory based on the insights gained. If certain items are often bought together, they can ensure these items are stocked near each other or bundled for promotions.\n",
    "\n",
    "**Conclusion**\n",
    "\n",
    "Unsupervised learning, as demonstrated through the example of the penguin-themed souvenir shop, allows businesses to uncover hidden patterns and relationships in the data. By leveraging these insights, they can improve customer satisfaction and optimize sales strategies without needing predefined labels or categories.\n"
   ]
  },
  {
   "cell_type": "code",
   "execution_count": 13,
   "id": "b6c07ff3",
   "metadata": {},
   "outputs": [
    {
     "name": "stdout",
     "output_type": "stream",
     "text": [
      "Frequent Itemsets:\n",
      "    support                          itemsets\n",
      "0      0.6               (Penguin Plush Toy)\n",
      "1      0.8                     (Penguin Mug)\n",
      "2      0.4                (Penguin Calendar)\n",
      "3      0.4                 (Penguin T-Shirt)\n",
      "4      0.3                (Penguin Keychain)\n",
      "5      0.4  (Penguin Mug, Penguin Plush Toy)\n",
      "6      0.3   (Penguin Calendar, Penguin Mug)\n",
      "7      0.3    (Penguin Mug, Penguin T-Shirt)\n",
      "\n",
      "Association Rules:\n",
      "            antecedents          consequents  support  confidence      lift\n",
      "0        (Penguin Mug)  (Penguin Plush Toy)      0.4    0.500000  0.833333\n",
      "1  (Penguin Plush Toy)        (Penguin Mug)      0.4    0.666667  0.833333\n",
      "2   (Penguin Calendar)        (Penguin Mug)      0.3    0.750000  0.937500\n",
      "3    (Penguin T-Shirt)        (Penguin Mug)      0.3    0.750000  0.937500\n"
     ]
    }
   ],
   "source": [
    "import pandas as pd\n",
    "from mlxtend.frequent_patterns import apriori, association_rules\n",
    "\n",
    "# Sample transaction data\n",
    "data1 = {\n",
    "    'Transaction': [1, 2, 3, 4, 5, 6, 7, 8, 9, 10],\n",
    "    'Penguin Plush Toy': [1, 1, 0, 1, 1, 0, 1, 0, 0, 1],\n",
    "    'Penguin Mug': [1, 1, 1, 0, 1, 1, 1, 1, 1, 0],\n",
    "    'Penguin Calendar': [0, 1, 0, 0, 0, 1, 0, 1, 0, 1],\n",
    "    'Penguin T-Shirt': [0, 0, 1, 1, 0, 0, 1, 1, 0, 0],\n",
    "    'Penguin Keychain': [0, 0, 0, 1, 1, 0, 0, 0, 1, 0]\n",
    "}\n",
    "\n",
    "# Create DataFrame and set Transaction as index\n",
    "df1 = pd.DataFrame(data1).set_index('Transaction')\n",
    "\n",
    "# Convert DataFrame to boolean type\n",
    "df1 = df1.astype(bool)\n",
    "\n",
    "# Step 1: Apply Apriori to find frequent itemsets\n",
    "frequent_itemsets = apriori(df1, min_support=0.3, use_colnames=True)  # Lowered support threshold\n",
    "print(\"Frequent Itemsets:\\n\", frequent_itemsets)\n",
    "\n",
    "# Step 2: Generate association rules\n",
    "rules = association_rules(frequent_itemsets, metric=\"confidence\", min_threshold=0.4)  # Lowered threshold\n",
    "print(\"\\nAssociation Rules:\\n\", rules[['antecedents', 'consequents', 'support', 'confidence', 'lift']])"
   ]
  },
  {
   "cell_type": "markdown",
   "id": "d759703d",
   "metadata": {},
   "source": [
    "Let's analyze the results of your frequent itemsets and association rules for the penguin-themed souvenir shop.\n",
    "Frequent Itemsets:\n",
    "| support | itemsets                                 |\n",
    "|---------|------------------------------------------|\n",
    "| 0.6     | (Penguin Plush Toy)                      |\n",
    "| 0.8     | (Penguin Mug)                            |\n",
    "| 0.4     | (Penguin Calendar)                       |\n",
    "| 0.4     | (Penguin T-Shirt)                        |\n",
    "| 0.3     | (Penguin Keychain)                       |\n",
    "| 0.4     | (Penguin Mug, Penguin Plush Toy)         |\n",
    "| 0.3     | (Penguin Calendar, Penguin Mug)          |\n",
    "| 0.3     | (Penguin Mug, Penguin T-Shirt)           |\n",
    "``\n",
    "\n",
    "\n",
    "Association Rules:\n",
    "| antecedents          | consequents          | support | confidence | lift     |\n",
    "|----------------------|----------------------|---------|------------|----------|\n",
    "| (Penguin Mug)        | (Penguin Plush Toy)  | 0.4     | 0.500000   | 0.833333 |\n",
    "| (Penguin Plush Toy)  | (Penguin Mug)        | 0.4     | 0.666667   | 0.833333 |\n",
    "| (Penguin Calendar)   | (Penguin Mug)        | 0.3     | 0.750000   | 0.937500 |\n",
    "| (Penguin T-Shirt)    | (Penguin Mug)        | 0.3     | 0.750000   | 0.937500 |\n",
    "### Frequent Itemsets Analysis\n",
    "\n",
    "1. **Single Item Frequencies**:\n",
    "   - **Penguin Mug**: Support of 0.8 (80% of transactions include this item)  \n",
    "     - This is the most popular item, indicating it has broad appeal and possibly high demand.\n",
    "   - **Penguin Plush Toy**: Support of 0.6 (60% of transactions)  \n",
    "     - This item is also very popular, but not as much as the mug.\n",
    "   - **Penguin Calendar**: Support of 0.4 (40% of transactions)  \n",
    "   - **Penguin T-Shirt**: Support of 0.4 (40% of transactions)  \n",
    "   - **Penguin Keychain**: Support of 0.3 (30% of transactions)  \n",
    "     - These items have moderate popularity, suggesting they are still relevant but less frequently purchased.\n",
    "\n",
    "2. **Item Combinations**:\n",
    "   - **(Penguin Mug, Penguin Plush Toy)**: Support of 0.4  \n",
    "     - A significant number of customers buy both items together, indicating a strong association between them.\n",
    "   - **(Penguin Calendar, Penguin Mug)**: Support of 0.3  \n",
    "   - **(Penguin Mug, Penguin T-Shirt)**: Support of 0.3  \n",
    "     - The presence of the mug in these combinations suggests it is a central item in customer purchases.\n",
    "\n",
    "### Association Rules Analysis\n",
    "\n",
    "1. **Rule 1**: If a customer buys **Penguin Mug**, they are likely to buy **Penguin Plush Toy**.\n",
    "   - **Support**: 0.4  \n",
    "   - **Confidence**: 0.5 (50% of those who buy a mug also buy a plush toy)  \n",
    "   - **Lift**: 0.83  \n",
    "     - This indicates a positive relationship, but the lift being less than 1 suggests they are not strongly dependent on each other. \n",
    "\n",
    "2. **Rule 2**: If a customer buys **Penguin Plush Toy**, they are likely to buy **Penguin Mug**.\n",
    "   - **Support**: 0.4  \n",
    "   - **Confidence**: 0.67 (67% of plush toy buyers also buy a mug)  \n",
    "   - **Lift**: 0.83  \n",
    "     - This shows a mutual relationship, with a stronger confidence when buying the plush toy.\n",
    "\n",
    "3. **Rule 3**: If a customer buys **Penguin Calendar**, they are likely to buy **Penguin Mug**.\n",
    "   - **Support**: 0.3  \n",
    "   - **Confidence**: 0.75 (75% of calendar buyers also buy a mug)  \n",
    "   - **Lift**: 0.94  \n",
    "     - The high confidence indicates a strong association, and the lift close to 1 shows they are somewhat related but also frequently bought independently.\n",
    "\n",
    "4. **Rule 4**: If a customer buys **Penguin T-Shirt**, they are likely to buy **Penguin Mug**.\n",
    "   - **Support**: 0.3  \n",
    "   - **Confidence**: 0.75 (75% of T-shirt buyers also buy a mug)  \n",
    "   - **Lift**: 0.94  \n",
    "     - Similar to the previous rule, this indicates that the mug is a common item in conjunction with the T-shirt.\n",
    "\n",
    "### Overall Insights\n",
    "\n",
    "- **Central Item**: The **Penguin Mug** is a key item in purchases, serving as a strong anchor for other items. Marketing strategies could focus on promoting the mug, possibly bundling it with plush toys or calendars to increase sales.\n",
    "\n",
    "- **Cross-Promotion Opportunities**: Since the mug appears frequently with other items, cross-promotional strategies (e.g., discounts or bundle deals) could be employed to encourage customers to buy multiple items together.\n",
    "\n",
    "- **Stock Management**: Given the high support for the mug, ensure it is well-stocked. Items like the plush toy, calendar, and T-shirt should also be stocked, but their inventory can be adjusted based on their lower support values.\n",
    "\n",
    "- **Targeted Advertising**: Use the association rules to create targeted advertising campaigns, suggesting related items based on customer purchase history.\n",
    "\n",
    "In summary,"
   ]
  },
  {
   "cell_type": "code",
   "execution_count": 14,
   "id": "08383dbf",
   "metadata": {},
   "outputs": [
    {
     "name": "stdout",
     "output_type": "stream",
     "text": [
      "   Transaction ID            Items Purchased\n",
      "0               1          Milk, Bread, Eggs\n",
      "1               2              Bread, Butter\n",
      "2               3  Milk, Bread, Butter, Eggs\n",
      "3               4                Eggs, Bacon\n",
      "4               5         Milk, Bread, Bacon\n",
      "5               6        Bread, Butter, Eggs\n",
      "6               7                 Milk, Eggs\n",
      "7               8                Bread, Eggs\n",
      "8               9               Milk, Butter\n",
      "9              10               Bacon, Bread\n"
     ]
    }
   ],
   "source": [
    "# Create the DataFrame\n",
    "data = {\n",
    "    \"Transaction ID\": [1, 2, 3, 4, 5, 6, 7, 8, 9, 10],\n",
    "    \"Items Purchased\": [\n",
    "        \"Milk, Bread, Eggs\",\n",
    "        \"Bread, Butter\",\n",
    "        \"Milk, Bread, Butter, Eggs\",\n",
    "        \"Eggs, Bacon\",\n",
    "        \"Milk, Bread, Bacon\",\n",
    "        \"Bread, Butter, Eggs\",\n",
    "        \"Milk, Eggs\",\n",
    "        \"Bread, Eggs\",\n",
    "        \"Milk, Butter\",\n",
    "        \"Bacon, Bread\"\n",
    "    ]\n",
    "}\n",
    "\n",
    "df = pd.DataFrame(data)\n",
    "\n",
    "# Display the DataFrame\n",
    "print(df)"
   ]
  },
  {
   "cell_type": "code",
   "execution_count": null,
   "id": "f5a2bce9",
   "metadata": {},
   "outputs": [
    {
     "name": "stdout",
     "output_type": "stream",
     "text": [
      "Frequent Itemsets:\n",
      "   support         itemsets\n",
      "0      0.3          (Bacon)\n",
      "1      0.7          (Bread)\n",
      "2      0.4         (Butter)\n",
      "3      0.6           (Eggs)\n",
      "4      0.5           (Milk)\n",
      "5      0.3  (Bread, Butter)\n",
      "6      0.4    (Bread, Eggs)\n",
      "7      0.3    (Bread, Milk)\n",
      "8      0.3     (Milk, Eggs)\n",
      "\n",
      "Association Rules:\n",
      "  antecedents consequents  antecedent support  consequent support  support  \\\n",
      "0    (Butter)     (Bread)                 0.4                 0.7      0.3   \n",
      "1     (Bread)      (Eggs)                 0.7                 0.6      0.4   \n",
      "2      (Eggs)     (Bread)                 0.6                 0.7      0.4   \n",
      "3      (Milk)     (Bread)                 0.5                 0.7      0.3   \n",
      "4      (Milk)      (Eggs)                 0.5                 0.6      0.3   \n",
      "5      (Eggs)      (Milk)                 0.6                 0.5      0.3   \n",
      "\n",
      "   confidence      lift  representativity  leverage  conviction  \\\n",
      "0    0.750000  1.071429               1.0      0.02    1.200000   \n",
      "1    0.571429  0.952381               1.0     -0.02    0.933333   \n",
      "2    0.666667  0.952381               1.0     -0.02    0.900000   \n",
      "3    0.600000  0.857143               1.0     -0.05    0.750000   \n",
      "4    0.600000  1.000000               1.0      0.00    1.000000   \n",
      "5    0.500000  1.000000               1.0      0.00    1.000000   \n",
      "\n",
      "   zhangs_metric   jaccard  certainty  kulczynski  \n",
      "0       0.111111  0.375000   0.166667    0.589286  \n",
      "1      -0.142857  0.444444  -0.071429    0.619048  \n",
      "2      -0.111111  0.444444  -0.111111    0.619048  \n",
      "3      -0.250000  0.333333  -0.333333    0.514286  \n",
      "4       0.000000  0.375000   0.000000    0.550000  \n",
      "5       0.000000  0.375000   0.000000    0.550000  \n"
     ]
    }
   ],
   "source": [
    "# -----------------------------\n",
    "# 1. Prepare Transaction Data\n",
    "# -----------------------------\n",
    "transactions = [\n",
    "    [\"Milk\", \"Bread\", \"Eggs\"],\n",
    "    [\"Bread\", \"Butter\"],\n",
    "    [\"Milk\", \"Bread\", \"Butter\", \"Eggs\"],\n",
    "    [\"Eggs\", \"Bacon\"],\n",
    "    [\"Milk\", \"Bread\", \"Bacon\"],\n",
    "    [\"Bread\", \"Butter\", \"Eggs\"],\n",
    "    [\"Milk\", \"Eggs\"],\n",
    "    [\"Bread\", \"Eggs\"],\n",
    "    [\"Milk\", \"Butter\"],\n",
    "    [\"Bacon\", \"Bread\"]\n",
    "]\n",
    "\n",
    "# Convert to one-hot encoded DataFrame\n",
    "te = TransactionEncoder()\n",
    "te_ary = te.fit(transactions).transform(transactions)\n",
    "df = pd.DataFrame(te_ary, columns=te.columns_)\n",
    "\n",
    "# -----------------------------\n",
    "# 2. Apply Apriori Algorithm\n",
    "# -----------------------------\n",
    "frequent_itemsets = apriori(df, min_support=0.3, use_colnames=True)\n",
    "# Generate association rules\n",
    "rules = association_rules(frequent_itemsets, metric=\"confidence\", min_threshold=0.5)\n",
    "\n",
    "# Display results\n",
    "print(\"Frequent Itemsets:\")\n",
    "print(frequent_itemsets)\n",
    "\n",
    "print(\"\\nAssociation Rules:\")\n",
    "print(rules)"
   ]
  },
  {
   "cell_type": "markdown",
   "id": "4b29f16c",
   "metadata": {},
   "source": [
    "Here's an analysis of the **Apriori output** you provided, broken down into two parts: **frequent itemsets** and **association rules**.\n",
    "\n",
    "---\n",
    "\n",
    "### 📦 **Frequent Itemsets Analysis**\n",
    "\n",
    "| Itemset             | Support | Interpretation |\n",
    "|---------------------|---------|----------------|\n",
    "| (Bread)             | 0.7     | Appears in 70% of transactions — most frequent item. |\n",
    "| (Eggs)              | 0.6     | Commonly purchased, in 60% of transactions. |\n",
    "| (Milk)              | 0.5     | Bought in half of all transactions. |\n",
    "| (Butter)            | 0.4     | Moderately frequent. |\n",
    "| (Bacon)             | 0.3     | Least frequent among single items. |\n",
    "| (Bread, Eggs)       | 0.4     | Strong pair — appears in 40% of transactions. |\n",
    "| (Bread, Butter)     | 0.3     | Classic combo, but less frequent. |\n",
    "| (Bread, Milk)       | 0.3     | Also appears in 30% of transactions. |\n",
    "| (Milk, Eggs)        | 0.3     | Indicates a common breakfast pairing. |\n",
    "\n",
    "---\n",
    "\n",
    "### 🔗 **Association Rules Analysis**\n",
    "\n",
    "| Rule                        | Confidence | Lift     | Interpretation |\n",
    "|-----------------------------|------------|----------|----------------|\n",
    "| Butter → Bread              | 0.75       | 1.07     | Strong rule: 75% of Butter buyers also buy Bread. Slightly better than random. |\n",
    "| Bread → Eggs                | 0.57       | 0.95     | Moderate confidence, but **lift < 1** suggests weak association. |\n",
    "| Eggs → Bread                | 0.67       | 0.95     | Similar to above; not a strong dependency. |\n",
    "| Milk → Bread                | 0.60       | 0.86     | Confidence is decent, but **lift < 1** implies Bread is already common. |\n",
    "| Milk → Eggs                 | 0.60       | 1.00     | Neutral lift: no added value in prediction. |\n",
    "| Eggs → Milk                 | 0.50       | 1.00     | Same as above — no strong predictive power. |\n",
    "\n",
    "---\n",
    "\n",
    "### 📊 **Key Insights**\n",
    "\n",
    "- **Bread** is the most frequent item and appears in many combinations, but its high baseline support makes it less useful for strong predictive rules (lift < 1).\n",
    "- **Butter → Bread** is the strongest rule with **lift > 1**, meaning Butter buyers are more likely to also buy Bread than by chance.\n",
    "- **Milk and Eggs** co-occur often, but their mutual prediction power is neutral (lift = 1).\n",
    "- Rules with **lift < 1** suggest that the consequent is already common and not strongly dependent on the antecedent.\n",
    "\n",
    "---\n",
    "\n",
    "Would you like a **visualization** (e.g., support-confidence scatter plot or network graph of rules)?"
   ]
  },
  {
   "cell_type": "code",
   "execution_count": null,
   "id": "7d15debc",
   "metadata": {},
   "outputs": [
    {
     "data": {
      "application/vnd.plotly.v1+json": {
       "config": {
        "plotlyServerURL": "https://plot.ly"
       },
       "data": [
        {
         "hovertemplate": "Itemsets=%{x}<br>Support=%{marker.color}<extra></extra>",
         "legendgroup": "",
         "marker": {
          "color": {
           "bdata": "MzMzMzMz0z9mZmZmZmbmP5qZmZmZmdk/MzMzMzMz4z8AAAAAAADgPzMzMzMzM9M/mpmZmZmZ2T8zMzMzMzPTPzMzMzMzM9M/",
           "dtype": "f8"
          },
          "coloraxis": "coloraxis",
          "pattern": {
           "shape": ""
          }
         },
         "name": "",
         "orientation": "v",
         "showlegend": false,
         "textposition": "auto",
         "type": "bar",
         "x": [
          "Bacon",
          "Bread",
          "Butter",
          "Eggs",
          "Milk",
          "Bread, Butter",
          "Bread, Eggs",
          "Bread, Milk",
          "Milk, Eggs"
         ],
         "xaxis": "x",
         "y": {
          "bdata": "MzMzMzMz0z9mZmZmZmbmP5qZmZmZmdk/MzMzMzMz4z8AAAAAAADgPzMzMzMzM9M/mpmZmZmZ2T8zMzMzMzPTPzMzMzMzM9M/",
          "dtype": "f8"
         },
         "yaxis": "y"
        }
       ],
       "layout": {
        "barmode": "relative",
        "coloraxis": {
         "colorbar": {
          "title": {
           "text": "Support"
          }
         },
         "colorscale": [
          [
           0,
           "#0d0887"
          ],
          [
           0.1111111111111111,
           "#46039f"
          ],
          [
           0.2222222222222222,
           "#7201a8"
          ],
          [
           0.3333333333333333,
           "#9c179e"
          ],
          [
           0.4444444444444444,
           "#bd3786"
          ],
          [
           0.5555555555555556,
           "#d8576b"
          ],
          [
           0.6666666666666666,
           "#ed7953"
          ],
          [
           0.7777777777777778,
           "#fb9f3a"
          ],
          [
           0.8888888888888888,
           "#fdca26"
          ],
          [
           1,
           "#f0f921"
          ]
         ]
        },
        "legend": {
         "tracegroupgap": 0
        },
        "template": {
         "data": {
          "bar": [
           {
            "error_x": {
             "color": "#2a3f5f"
            },
            "error_y": {
             "color": "#2a3f5f"
            },
            "marker": {
             "line": {
              "color": "#E5ECF6",
              "width": 0.5
             },
             "pattern": {
              "fillmode": "overlay",
              "size": 10,
              "solidity": 0.2
             }
            },
            "type": "bar"
           }
          ],
          "barpolar": [
           {
            "marker": {
             "line": {
              "color": "#E5ECF6",
              "width": 0.5
             },
             "pattern": {
              "fillmode": "overlay",
              "size": 10,
              "solidity": 0.2
             }
            },
            "type": "barpolar"
           }
          ],
          "carpet": [
           {
            "aaxis": {
             "endlinecolor": "#2a3f5f",
             "gridcolor": "white",
             "linecolor": "white",
             "minorgridcolor": "white",
             "startlinecolor": "#2a3f5f"
            },
            "baxis": {
             "endlinecolor": "#2a3f5f",
             "gridcolor": "white",
             "linecolor": "white",
             "minorgridcolor": "white",
             "startlinecolor": "#2a3f5f"
            },
            "type": "carpet"
           }
          ],
          "choropleth": [
           {
            "colorbar": {
             "outlinewidth": 0,
             "ticks": ""
            },
            "type": "choropleth"
           }
          ],
          "contour": [
           {
            "colorbar": {
             "outlinewidth": 0,
             "ticks": ""
            },
            "colorscale": [
             [
              0,
              "#0d0887"
             ],
             [
              0.1111111111111111,
              "#46039f"
             ],
             [
              0.2222222222222222,
              "#7201a8"
             ],
             [
              0.3333333333333333,
              "#9c179e"
             ],
             [
              0.4444444444444444,
              "#bd3786"
             ],
             [
              0.5555555555555556,
              "#d8576b"
             ],
             [
              0.6666666666666666,
              "#ed7953"
             ],
             [
              0.7777777777777778,
              "#fb9f3a"
             ],
             [
              0.8888888888888888,
              "#fdca26"
             ],
             [
              1,
              "#f0f921"
             ]
            ],
            "type": "contour"
           }
          ],
          "contourcarpet": [
           {
            "colorbar": {
             "outlinewidth": 0,
             "ticks": ""
            },
            "type": "contourcarpet"
           }
          ],
          "heatmap": [
           {
            "colorbar": {
             "outlinewidth": 0,
             "ticks": ""
            },
            "colorscale": [
             [
              0,
              "#0d0887"
             ],
             [
              0.1111111111111111,
              "#46039f"
             ],
             [
              0.2222222222222222,
              "#7201a8"
             ],
             [
              0.3333333333333333,
              "#9c179e"
             ],
             [
              0.4444444444444444,
              "#bd3786"
             ],
             [
              0.5555555555555556,
              "#d8576b"
             ],
             [
              0.6666666666666666,
              "#ed7953"
             ],
             [
              0.7777777777777778,
              "#fb9f3a"
             ],
             [
              0.8888888888888888,
              "#fdca26"
             ],
             [
              1,
              "#f0f921"
             ]
            ],
            "type": "heatmap"
           }
          ],
          "histogram": [
           {
            "marker": {
             "pattern": {
              "fillmode": "overlay",
              "size": 10,
              "solidity": 0.2
             }
            },
            "type": "histogram"
           }
          ],
          "histogram2d": [
           {
            "colorbar": {
             "outlinewidth": 0,
             "ticks": ""
            },
            "colorscale": [
             [
              0,
              "#0d0887"
             ],
             [
              0.1111111111111111,
              "#46039f"
             ],
             [
              0.2222222222222222,
              "#7201a8"
             ],
             [
              0.3333333333333333,
              "#9c179e"
             ],
             [
              0.4444444444444444,
              "#bd3786"
             ],
             [
              0.5555555555555556,
              "#d8576b"
             ],
             [
              0.6666666666666666,
              "#ed7953"
             ],
             [
              0.7777777777777778,
              "#fb9f3a"
             ],
             [
              0.8888888888888888,
              "#fdca26"
             ],
             [
              1,
              "#f0f921"
             ]
            ],
            "type": "histogram2d"
           }
          ],
          "histogram2dcontour": [
           {
            "colorbar": {
             "outlinewidth": 0,
             "ticks": ""
            },
            "colorscale": [
             [
              0,
              "#0d0887"
             ],
             [
              0.1111111111111111,
              "#46039f"
             ],
             [
              0.2222222222222222,
              "#7201a8"
             ],
             [
              0.3333333333333333,
              "#9c179e"
             ],
             [
              0.4444444444444444,
              "#bd3786"
             ],
             [
              0.5555555555555556,
              "#d8576b"
             ],
             [
              0.6666666666666666,
              "#ed7953"
             ],
             [
              0.7777777777777778,
              "#fb9f3a"
             ],
             [
              0.8888888888888888,
              "#fdca26"
             ],
             [
              1,
              "#f0f921"
             ]
            ],
            "type": "histogram2dcontour"
           }
          ],
          "mesh3d": [
           {
            "colorbar": {
             "outlinewidth": 0,
             "ticks": ""
            },
            "type": "mesh3d"
           }
          ],
          "parcoords": [
           {
            "line": {
             "colorbar": {
              "outlinewidth": 0,
              "ticks": ""
             }
            },
            "type": "parcoords"
           }
          ],
          "pie": [
           {
            "automargin": true,
            "type": "pie"
           }
          ],
          "scatter": [
           {
            "fillpattern": {
             "fillmode": "overlay",
             "size": 10,
             "solidity": 0.2
            },
            "type": "scatter"
           }
          ],
          "scatter3d": [
           {
            "line": {
             "colorbar": {
              "outlinewidth": 0,
              "ticks": ""
             }
            },
            "marker": {
             "colorbar": {
              "outlinewidth": 0,
              "ticks": ""
             }
            },
            "type": "scatter3d"
           }
          ],
          "scattercarpet": [
           {
            "marker": {
             "colorbar": {
              "outlinewidth": 0,
              "ticks": ""
             }
            },
            "type": "scattercarpet"
           }
          ],
          "scattergeo": [
           {
            "marker": {
             "colorbar": {
              "outlinewidth": 0,
              "ticks": ""
             }
            },
            "type": "scattergeo"
           }
          ],
          "scattergl": [
           {
            "marker": {
             "colorbar": {
              "outlinewidth": 0,
              "ticks": ""
             }
            },
            "type": "scattergl"
           }
          ],
          "scattermap": [
           {
            "marker": {
             "colorbar": {
              "outlinewidth": 0,
              "ticks": ""
             }
            },
            "type": "scattermap"
           }
          ],
          "scattermapbox": [
           {
            "marker": {
             "colorbar": {
              "outlinewidth": 0,
              "ticks": ""
             }
            },
            "type": "scattermapbox"
           }
          ],
          "scatterpolar": [
           {
            "marker": {
             "colorbar": {
              "outlinewidth": 0,
              "ticks": ""
             }
            },
            "type": "scatterpolar"
           }
          ],
          "scatterpolargl": [
           {
            "marker": {
             "colorbar": {
              "outlinewidth": 0,
              "ticks": ""
             }
            },
            "type": "scatterpolargl"
           }
          ],
          "scatterternary": [
           {
            "marker": {
             "colorbar": {
              "outlinewidth": 0,
              "ticks": ""
             }
            },
            "type": "scatterternary"
           }
          ],
          "surface": [
           {
            "colorbar": {
             "outlinewidth": 0,
             "ticks": ""
            },
            "colorscale": [
             [
              0,
              "#0d0887"
             ],
             [
              0.1111111111111111,
              "#46039f"
             ],
             [
              0.2222222222222222,
              "#7201a8"
             ],
             [
              0.3333333333333333,
              "#9c179e"
             ],
             [
              0.4444444444444444,
              "#bd3786"
             ],
             [
              0.5555555555555556,
              "#d8576b"
             ],
             [
              0.6666666666666666,
              "#ed7953"
             ],
             [
              0.7777777777777778,
              "#fb9f3a"
             ],
             [
              0.8888888888888888,
              "#fdca26"
             ],
             [
              1,
              "#f0f921"
             ]
            ],
            "type": "surface"
           }
          ],
          "table": [
           {
            "cells": {
             "fill": {
              "color": "#EBF0F8"
             },
             "line": {
              "color": "white"
             }
            },
            "header": {
             "fill": {
              "color": "#C8D4E3"
             },
             "line": {
              "color": "white"
             }
            },
            "type": "table"
           }
          ]
         },
         "layout": {
          "annotationdefaults": {
           "arrowcolor": "#2a3f5f",
           "arrowhead": 0,
           "arrowwidth": 1
          },
          "autotypenumbers": "strict",
          "coloraxis": {
           "colorbar": {
            "outlinewidth": 0,
            "ticks": ""
           }
          },
          "colorscale": {
           "diverging": [
            [
             0,
             "#8e0152"
            ],
            [
             0.1,
             "#c51b7d"
            ],
            [
             0.2,
             "#de77ae"
            ],
            [
             0.3,
             "#f1b6da"
            ],
            [
             0.4,
             "#fde0ef"
            ],
            [
             0.5,
             "#f7f7f7"
            ],
            [
             0.6,
             "#e6f5d0"
            ],
            [
             0.7,
             "#b8e186"
            ],
            [
             0.8,
             "#7fbc41"
            ],
            [
             0.9,
             "#4d9221"
            ],
            [
             1,
             "#276419"
            ]
           ],
           "sequential": [
            [
             0,
             "#0d0887"
            ],
            [
             0.1111111111111111,
             "#46039f"
            ],
            [
             0.2222222222222222,
             "#7201a8"
            ],
            [
             0.3333333333333333,
             "#9c179e"
            ],
            [
             0.4444444444444444,
             "#bd3786"
            ],
            [
             0.5555555555555556,
             "#d8576b"
            ],
            [
             0.6666666666666666,
             "#ed7953"
            ],
            [
             0.7777777777777778,
             "#fb9f3a"
            ],
            [
             0.8888888888888888,
             "#fdca26"
            ],
            [
             1,
             "#f0f921"
            ]
           ],
           "sequentialminus": [
            [
             0,
             "#0d0887"
            ],
            [
             0.1111111111111111,
             "#46039f"
            ],
            [
             0.2222222222222222,
             "#7201a8"
            ],
            [
             0.3333333333333333,
             "#9c179e"
            ],
            [
             0.4444444444444444,
             "#bd3786"
            ],
            [
             0.5555555555555556,
             "#d8576b"
            ],
            [
             0.6666666666666666,
             "#ed7953"
            ],
            [
             0.7777777777777778,
             "#fb9f3a"
            ],
            [
             0.8888888888888888,
             "#fdca26"
            ],
            [
             1,
             "#f0f921"
            ]
           ]
          },
          "colorway": [
           "#636efa",
           "#EF553B",
           "#00cc96",
           "#ab63fa",
           "#FFA15A",
           "#19d3f3",
           "#FF6692",
           "#B6E880",
           "#FF97FF",
           "#FECB52"
          ],
          "font": {
           "color": "#2a3f5f"
          },
          "geo": {
           "bgcolor": "white",
           "lakecolor": "white",
           "landcolor": "#E5ECF6",
           "showlakes": true,
           "showland": true,
           "subunitcolor": "white"
          },
          "hoverlabel": {
           "align": "left"
          },
          "hovermode": "closest",
          "mapbox": {
           "style": "light"
          },
          "paper_bgcolor": "white",
          "plot_bgcolor": "#E5ECF6",
          "polar": {
           "angularaxis": {
            "gridcolor": "white",
            "linecolor": "white",
            "ticks": ""
           },
           "bgcolor": "#E5ECF6",
           "radialaxis": {
            "gridcolor": "white",
            "linecolor": "white",
            "ticks": ""
           }
          },
          "scene": {
           "xaxis": {
            "backgroundcolor": "#E5ECF6",
            "gridcolor": "white",
            "gridwidth": 2,
            "linecolor": "white",
            "showbackground": true,
            "ticks": "",
            "zerolinecolor": "white"
           },
           "yaxis": {
            "backgroundcolor": "#E5ECF6",
            "gridcolor": "white",
            "gridwidth": 2,
            "linecolor": "white",
            "showbackground": true,
            "ticks": "",
            "zerolinecolor": "white"
           },
           "zaxis": {
            "backgroundcolor": "#E5ECF6",
            "gridcolor": "white",
            "gridwidth": 2,
            "linecolor": "white",
            "showbackground": true,
            "ticks": "",
            "zerolinecolor": "white"
           }
          },
          "shapedefaults": {
           "line": {
            "color": "#2a3f5f"
           }
          },
          "ternary": {
           "aaxis": {
            "gridcolor": "white",
            "linecolor": "white",
            "ticks": ""
           },
           "baxis": {
            "gridcolor": "white",
            "linecolor": "white",
            "ticks": ""
           },
           "bgcolor": "#E5ECF6",
           "caxis": {
            "gridcolor": "white",
            "linecolor": "white",
            "ticks": ""
           }
          },
          "title": {
           "x": 0.05
          },
          "xaxis": {
           "automargin": true,
           "gridcolor": "white",
           "linecolor": "white",
           "ticks": "",
           "title": {
            "standoff": 15
           },
           "zerolinecolor": "white",
           "zerolinewidth": 2
          },
          "yaxis": {
           "automargin": true,
           "gridcolor": "white",
           "linecolor": "white",
           "ticks": "",
           "title": {
            "standoff": 15
           },
           "zerolinecolor": "white",
           "zerolinewidth": 2
          }
         }
        },
        "title": {
         "text": "Frequent Itemsets Support"
        },
        "xaxis": {
         "anchor": "y",
         "domain": [
          0,
          1
         ],
         "title": {
          "text": "Itemsets"
         }
        },
        "yaxis": {
         "anchor": "x",
         "domain": [
          0,
          1
         ],
         "title": {
          "text": "Support"
         }
        }
       }
      }
     },
     "metadata": {},
     "output_type": "display_data"
    },
    {
     "data": {
      "application/vnd.plotly.v1+json": {
       "config": {
        "plotlyServerURL": "https://plot.ly"
       },
       "data": [
        {
         "hovertemplate": "Support=%{x}<br>Confidence=%{y}<br>Lift=%{marker.color}<br>rule=%{text}<extra></extra>",
         "legendgroup": "",
         "marker": {
          "color": {
           "bdata": "SZIkSZIk8T+g53me53nuP6DneZ7nee4/3LZt27Zt6z8AAAAAAADwPwAAAAAAAPA/",
           "dtype": "f8"
          },
          "coloraxis": "coloraxis",
          "size": {
           "bdata": "SZIkSZIk8T+g53me53nuP6DneZ7nee4/3LZt27Zt6z8AAAAAAADwPwAAAAAAAPA/",
           "dtype": "f8"
          },
          "sizemode": "area",
          "sizeref": 0.0026785714285714286,
          "symbol": "circle"
         },
         "mode": "markers+text",
         "name": "",
         "orientation": "v",
         "showlegend": false,
         "text": [
          "Butter → Bread",
          "Bread → Eggs",
          "Eggs → Bread",
          "Milk → Bread",
          "Milk → Eggs",
          "Eggs → Milk"
         ],
         "type": "scatter",
         "x": {
          "bdata": "MzMzMzMz0z+amZmZmZnZP5qZmZmZmdk/MzMzMzMz0z8zMzMzMzPTPzMzMzMzM9M/",
          "dtype": "f8"
         },
         "xaxis": "x",
         "y": {
          "bdata": "////////5z+TJEmSJEniP1ZVVVVVVeU/MzMzMzMz4z8zMzMzMzPjPwAAAAAAAOA/",
          "dtype": "f8"
         },
         "yaxis": "y"
        }
       ],
       "layout": {
        "coloraxis": {
         "colorbar": {
          "title": {
           "text": "Lift"
          }
         },
         "colorscale": [
          [
           0,
           "#0d0887"
          ],
          [
           0.1111111111111111,
           "#46039f"
          ],
          [
           0.2222222222222222,
           "#7201a8"
          ],
          [
           0.3333333333333333,
           "#9c179e"
          ],
          [
           0.4444444444444444,
           "#bd3786"
          ],
          [
           0.5555555555555556,
           "#d8576b"
          ],
          [
           0.6666666666666666,
           "#ed7953"
          ],
          [
           0.7777777777777778,
           "#fb9f3a"
          ],
          [
           0.8888888888888888,
           "#fdca26"
          ],
          [
           1,
           "#f0f921"
          ]
         ]
        },
        "legend": {
         "itemsizing": "constant",
         "tracegroupgap": 0
        },
        "template": {
         "data": {
          "bar": [
           {
            "error_x": {
             "color": "#2a3f5f"
            },
            "error_y": {
             "color": "#2a3f5f"
            },
            "marker": {
             "line": {
              "color": "#E5ECF6",
              "width": 0.5
             },
             "pattern": {
              "fillmode": "overlay",
              "size": 10,
              "solidity": 0.2
             }
            },
            "type": "bar"
           }
          ],
          "barpolar": [
           {
            "marker": {
             "line": {
              "color": "#E5ECF6",
              "width": 0.5
             },
             "pattern": {
              "fillmode": "overlay",
              "size": 10,
              "solidity": 0.2
             }
            },
            "type": "barpolar"
           }
          ],
          "carpet": [
           {
            "aaxis": {
             "endlinecolor": "#2a3f5f",
             "gridcolor": "white",
             "linecolor": "white",
             "minorgridcolor": "white",
             "startlinecolor": "#2a3f5f"
            },
            "baxis": {
             "endlinecolor": "#2a3f5f",
             "gridcolor": "white",
             "linecolor": "white",
             "minorgridcolor": "white",
             "startlinecolor": "#2a3f5f"
            },
            "type": "carpet"
           }
          ],
          "choropleth": [
           {
            "colorbar": {
             "outlinewidth": 0,
             "ticks": ""
            },
            "type": "choropleth"
           }
          ],
          "contour": [
           {
            "colorbar": {
             "outlinewidth": 0,
             "ticks": ""
            },
            "colorscale": [
             [
              0,
              "#0d0887"
             ],
             [
              0.1111111111111111,
              "#46039f"
             ],
             [
              0.2222222222222222,
              "#7201a8"
             ],
             [
              0.3333333333333333,
              "#9c179e"
             ],
             [
              0.4444444444444444,
              "#bd3786"
             ],
             [
              0.5555555555555556,
              "#d8576b"
             ],
             [
              0.6666666666666666,
              "#ed7953"
             ],
             [
              0.7777777777777778,
              "#fb9f3a"
             ],
             [
              0.8888888888888888,
              "#fdca26"
             ],
             [
              1,
              "#f0f921"
             ]
            ],
            "type": "contour"
           }
          ],
          "contourcarpet": [
           {
            "colorbar": {
             "outlinewidth": 0,
             "ticks": ""
            },
            "type": "contourcarpet"
           }
          ],
          "heatmap": [
           {
            "colorbar": {
             "outlinewidth": 0,
             "ticks": ""
            },
            "colorscale": [
             [
              0,
              "#0d0887"
             ],
             [
              0.1111111111111111,
              "#46039f"
             ],
             [
              0.2222222222222222,
              "#7201a8"
             ],
             [
              0.3333333333333333,
              "#9c179e"
             ],
             [
              0.4444444444444444,
              "#bd3786"
             ],
             [
              0.5555555555555556,
              "#d8576b"
             ],
             [
              0.6666666666666666,
              "#ed7953"
             ],
             [
              0.7777777777777778,
              "#fb9f3a"
             ],
             [
              0.8888888888888888,
              "#fdca26"
             ],
             [
              1,
              "#f0f921"
             ]
            ],
            "type": "heatmap"
           }
          ],
          "histogram": [
           {
            "marker": {
             "pattern": {
              "fillmode": "overlay",
              "size": 10,
              "solidity": 0.2
             }
            },
            "type": "histogram"
           }
          ],
          "histogram2d": [
           {
            "colorbar": {
             "outlinewidth": 0,
             "ticks": ""
            },
            "colorscale": [
             [
              0,
              "#0d0887"
             ],
             [
              0.1111111111111111,
              "#46039f"
             ],
             [
              0.2222222222222222,
              "#7201a8"
             ],
             [
              0.3333333333333333,
              "#9c179e"
             ],
             [
              0.4444444444444444,
              "#bd3786"
             ],
             [
              0.5555555555555556,
              "#d8576b"
             ],
             [
              0.6666666666666666,
              "#ed7953"
             ],
             [
              0.7777777777777778,
              "#fb9f3a"
             ],
             [
              0.8888888888888888,
              "#fdca26"
             ],
             [
              1,
              "#f0f921"
             ]
            ],
            "type": "histogram2d"
           }
          ],
          "histogram2dcontour": [
           {
            "colorbar": {
             "outlinewidth": 0,
             "ticks": ""
            },
            "colorscale": [
             [
              0,
              "#0d0887"
             ],
             [
              0.1111111111111111,
              "#46039f"
             ],
             [
              0.2222222222222222,
              "#7201a8"
             ],
             [
              0.3333333333333333,
              "#9c179e"
             ],
             [
              0.4444444444444444,
              "#bd3786"
             ],
             [
              0.5555555555555556,
              "#d8576b"
             ],
             [
              0.6666666666666666,
              "#ed7953"
             ],
             [
              0.7777777777777778,
              "#fb9f3a"
             ],
             [
              0.8888888888888888,
              "#fdca26"
             ],
             [
              1,
              "#f0f921"
             ]
            ],
            "type": "histogram2dcontour"
           }
          ],
          "mesh3d": [
           {
            "colorbar": {
             "outlinewidth": 0,
             "ticks": ""
            },
            "type": "mesh3d"
           }
          ],
          "parcoords": [
           {
            "line": {
             "colorbar": {
              "outlinewidth": 0,
              "ticks": ""
             }
            },
            "type": "parcoords"
           }
          ],
          "pie": [
           {
            "automargin": true,
            "type": "pie"
           }
          ],
          "scatter": [
           {
            "fillpattern": {
             "fillmode": "overlay",
             "size": 10,
             "solidity": 0.2
            },
            "type": "scatter"
           }
          ],
          "scatter3d": [
           {
            "line": {
             "colorbar": {
              "outlinewidth": 0,
              "ticks": ""
             }
            },
            "marker": {
             "colorbar": {
              "outlinewidth": 0,
              "ticks": ""
             }
            },
            "type": "scatter3d"
           }
          ],
          "scattercarpet": [
           {
            "marker": {
             "colorbar": {
              "outlinewidth": 0,
              "ticks": ""
             }
            },
            "type": "scattercarpet"
           }
          ],
          "scattergeo": [
           {
            "marker": {
             "colorbar": {
              "outlinewidth": 0,
              "ticks": ""
             }
            },
            "type": "scattergeo"
           }
          ],
          "scattergl": [
           {
            "marker": {
             "colorbar": {
              "outlinewidth": 0,
              "ticks": ""
             }
            },
            "type": "scattergl"
           }
          ],
          "scattermap": [
           {
            "marker": {
             "colorbar": {
              "outlinewidth": 0,
              "ticks": ""
             }
            },
            "type": "scattermap"
           }
          ],
          "scattermapbox": [
           {
            "marker": {
             "colorbar": {
              "outlinewidth": 0,
              "ticks": ""
             }
            },
            "type": "scattermapbox"
           }
          ],
          "scatterpolar": [
           {
            "marker": {
             "colorbar": {
              "outlinewidth": 0,
              "ticks": ""
             }
            },
            "type": "scatterpolar"
           }
          ],
          "scatterpolargl": [
           {
            "marker": {
             "colorbar": {
              "outlinewidth": 0,
              "ticks": ""
             }
            },
            "type": "scatterpolargl"
           }
          ],
          "scatterternary": [
           {
            "marker": {
             "colorbar": {
              "outlinewidth": 0,
              "ticks": ""
             }
            },
            "type": "scatterternary"
           }
          ],
          "surface": [
           {
            "colorbar": {
             "outlinewidth": 0,
             "ticks": ""
            },
            "colorscale": [
             [
              0,
              "#0d0887"
             ],
             [
              0.1111111111111111,
              "#46039f"
             ],
             [
              0.2222222222222222,
              "#7201a8"
             ],
             [
              0.3333333333333333,
              "#9c179e"
             ],
             [
              0.4444444444444444,
              "#bd3786"
             ],
             [
              0.5555555555555556,
              "#d8576b"
             ],
             [
              0.6666666666666666,
              "#ed7953"
             ],
             [
              0.7777777777777778,
              "#fb9f3a"
             ],
             [
              0.8888888888888888,
              "#fdca26"
             ],
             [
              1,
              "#f0f921"
             ]
            ],
            "type": "surface"
           }
          ],
          "table": [
           {
            "cells": {
             "fill": {
              "color": "#EBF0F8"
             },
             "line": {
              "color": "white"
             }
            },
            "header": {
             "fill": {
              "color": "#C8D4E3"
             },
             "line": {
              "color": "white"
             }
            },
            "type": "table"
           }
          ]
         },
         "layout": {
          "annotationdefaults": {
           "arrowcolor": "#2a3f5f",
           "arrowhead": 0,
           "arrowwidth": 1
          },
          "autotypenumbers": "strict",
          "coloraxis": {
           "colorbar": {
            "outlinewidth": 0,
            "ticks": ""
           }
          },
          "colorscale": {
           "diverging": [
            [
             0,
             "#8e0152"
            ],
            [
             0.1,
             "#c51b7d"
            ],
            [
             0.2,
             "#de77ae"
            ],
            [
             0.3,
             "#f1b6da"
            ],
            [
             0.4,
             "#fde0ef"
            ],
            [
             0.5,
             "#f7f7f7"
            ],
            [
             0.6,
             "#e6f5d0"
            ],
            [
             0.7,
             "#b8e186"
            ],
            [
             0.8,
             "#7fbc41"
            ],
            [
             0.9,
             "#4d9221"
            ],
            [
             1,
             "#276419"
            ]
           ],
           "sequential": [
            [
             0,
             "#0d0887"
            ],
            [
             0.1111111111111111,
             "#46039f"
            ],
            [
             0.2222222222222222,
             "#7201a8"
            ],
            [
             0.3333333333333333,
             "#9c179e"
            ],
            [
             0.4444444444444444,
             "#bd3786"
            ],
            [
             0.5555555555555556,
             "#d8576b"
            ],
            [
             0.6666666666666666,
             "#ed7953"
            ],
            [
             0.7777777777777778,
             "#fb9f3a"
            ],
            [
             0.8888888888888888,
             "#fdca26"
            ],
            [
             1,
             "#f0f921"
            ]
           ],
           "sequentialminus": [
            [
             0,
             "#0d0887"
            ],
            [
             0.1111111111111111,
             "#46039f"
            ],
            [
             0.2222222222222222,
             "#7201a8"
            ],
            [
             0.3333333333333333,
             "#9c179e"
            ],
            [
             0.4444444444444444,
             "#bd3786"
            ],
            [
             0.5555555555555556,
             "#d8576b"
            ],
            [
             0.6666666666666666,
             "#ed7953"
            ],
            [
             0.7777777777777778,
             "#fb9f3a"
            ],
            [
             0.8888888888888888,
             "#fdca26"
            ],
            [
             1,
             "#f0f921"
            ]
           ]
          },
          "colorway": [
           "#636efa",
           "#EF553B",
           "#00cc96",
           "#ab63fa",
           "#FFA15A",
           "#19d3f3",
           "#FF6692",
           "#B6E880",
           "#FF97FF",
           "#FECB52"
          ],
          "font": {
           "color": "#2a3f5f"
          },
          "geo": {
           "bgcolor": "white",
           "lakecolor": "white",
           "landcolor": "#E5ECF6",
           "showlakes": true,
           "showland": true,
           "subunitcolor": "white"
          },
          "hoverlabel": {
           "align": "left"
          },
          "hovermode": "closest",
          "mapbox": {
           "style": "light"
          },
          "paper_bgcolor": "white",
          "plot_bgcolor": "#E5ECF6",
          "polar": {
           "angularaxis": {
            "gridcolor": "white",
            "linecolor": "white",
            "ticks": ""
           },
           "bgcolor": "#E5ECF6",
           "radialaxis": {
            "gridcolor": "white",
            "linecolor": "white",
            "ticks": ""
           }
          },
          "scene": {
           "xaxis": {
            "backgroundcolor": "#E5ECF6",
            "gridcolor": "white",
            "gridwidth": 2,
            "linecolor": "white",
            "showbackground": true,
            "ticks": "",
            "zerolinecolor": "white"
           },
           "yaxis": {
            "backgroundcolor": "#E5ECF6",
            "gridcolor": "white",
            "gridwidth": 2,
            "linecolor": "white",
            "showbackground": true,
            "ticks": "",
            "zerolinecolor": "white"
           },
           "zaxis": {
            "backgroundcolor": "#E5ECF6",
            "gridcolor": "white",
            "gridwidth": 2,
            "linecolor": "white",
            "showbackground": true,
            "ticks": "",
            "zerolinecolor": "white"
           }
          },
          "shapedefaults": {
           "line": {
            "color": "#2a3f5f"
           }
          },
          "ternary": {
           "aaxis": {
            "gridcolor": "white",
            "linecolor": "white",
            "ticks": ""
           },
           "baxis": {
            "gridcolor": "white",
            "linecolor": "white",
            "ticks": ""
           },
           "bgcolor": "#E5ECF6",
           "caxis": {
            "gridcolor": "white",
            "linecolor": "white",
            "ticks": ""
           }
          },
          "title": {
           "x": 0.05
          },
          "xaxis": {
           "automargin": true,
           "gridcolor": "white",
           "linecolor": "white",
           "ticks": "",
           "title": {
            "standoff": 15
           },
           "zerolinecolor": "white",
           "zerolinewidth": 2
          },
          "yaxis": {
           "automargin": true,
           "gridcolor": "white",
           "linecolor": "white",
           "ticks": "",
           "title": {
            "standoff": 15
           },
           "zerolinecolor": "white",
           "zerolinewidth": 2
          }
         }
        },
        "title": {
         "text": "Association Rules: Support vs Confidence"
        },
        "xaxis": {
         "anchor": "y",
         "domain": [
          0,
          1
         ],
         "title": {
          "text": "Support"
         }
        },
        "yaxis": {
         "anchor": "x",
         "domain": [
          0,
          1
         ],
         "title": {
          "text": "Confidence"
         }
        }
       }
      }
     },
     "metadata": {},
     "output_type": "display_data"
    }
   ],
   "source": [
    "\n",
    "# -----------------------------\n",
    "# 3. Prepare Data for Plotting\n",
    "# -----------------------------\n",
    "# Convert itemsets to string for bar chart\n",
    "frequent_itemsets['itemsets_str'] = frequent_itemsets['itemsets'].apply(lambda x: ', '.join(list(x)))\n",
    "\n",
    "# Add readable rule column to association rules\n",
    "rules['rule'] = rules.apply(lambda row: f\"{', '.join(list(row['antecedents']))} → {', '.join(list(row['consequents']))}\", axis=1)\n",
    "\n",
    "# -----------------------------\n",
    "# 4. Visualization\n",
    "# -----------------------------\n",
    "# Bar chart for frequent itemsets\n",
    "fig_bar = px.bar(\n",
    "    frequent_itemsets,\n",
    "    x='itemsets_str',\n",
    "    y='support',\n",
    "    labels={'itemsets_str': 'Itemsets', 'support': 'Support'},\n",
    "    title='Frequent Itemsets Support',\n",
    "    color='support'\n",
    ")\n",
    "fig_bar.show()\n",
    "\n",
    "# Scatter plot for association rules\n",
    "fig_scatter = px.scatter(\n",
    "    rules,\n",
    "    x='support',\n",
    "    y='confidence',\n",
    "    text='rule',  # Now this column exists\n",
    "    size='lift',\n",
    "    color='lift',\n",
    "    labels={'support': 'Support', 'confidence': 'Confidence', 'lift': 'Lift'},\n",
    "    title='Association Rules: Support vs Confidence'\n",
    ")\n",
    "fig_scatter.show()"
   ]
  },
  {
   "cell_type": "code",
   "execution_count": null,
   "id": "fb1b7eea",
   "metadata": {},
   "outputs": [],
   "source": []
  }
 ],
 "metadata": {
  "kernelspec": {
   "display_name": "ai-sprint",
   "language": "python",
   "name": "python3"
  },
  "language_info": {
   "codemirror_mode": {
    "name": "ipython",
    "version": 3
   },
   "file_extension": ".py",
   "mimetype": "text/x-python",
   "name": "python",
   "nbconvert_exporter": "python",
   "pygments_lexer": "ipython3",
   "version": "3.10.19"
  }
 },
 "nbformat": 4,
 "nbformat_minor": 5
}

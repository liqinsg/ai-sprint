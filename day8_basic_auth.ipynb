{
 "cells": [
  {
   "cell_type": "code",
   "execution_count": null,
   "id": "2ec5e82c",
   "metadata": {},
   "outputs": [],
   "source": [
    "# day8_basic_auth.ipynb\n",
    "import os\n",
    "import mlflow\n",
    "import subprocess\n",
    "\n"
   ]
  },
  {
   "cell_type": "code",
   "execution_count": 8,
   "id": "31efb2d1",
   "metadata": {},
   "outputs": [
    {
     "name": "stdout",
     "output_type": "stream",
     "text": [
      "Output of the script:\n",
      "The value of MY_VAR is: Hello, World!\n",
      "\n",
      "Error (if any):\n",
      "\n"
     ]
    }
   ],
   "source": [
    "os.environ['MY_VAR'] = 'Hello, World!'\n",
    "# Run the Bash script\n",
    "result = subprocess.run(['bash', 'script.sh'], capture_output=True, text=True)\n",
    "\n",
    "# Print the output\n",
    "print(\"Output of the script:\")\n",
    "print(result.stdout)\n",
    "print(\"Error (if any):\")\n",
    "print(result.stderr)"
   ]
  },
  {
   "cell_type": "code",
   "execution_count": 9,
   "id": "d662c0da",
   "metadata": {},
   "outputs": [
    {
     "name": "stdout",
     "output_type": "stream",
     "text": [
      "URI: None\n",
      "USER: None\n",
      "TOKEN: None\n"
     ]
    }
   ],
   "source": [
    "result = subprocess.run(['bash', 'env-vars.sh'], capture_output=True, text=True)\n",
    "print(\"URI:\", os.environ.get(\"MLFLOW_TRACKING_URI\"))\n",
    "print(\"USER:\", os.environ.get(\"DAGSHUB_USERNAME\"))\n",
    "print(\"TOKEN:\", os.environ.get(\"DAGSHUB_PASSWORD\"))\n",
    "# print(\"TOKEN:\", os.environ.get(\"DAGSHUB_PASSWORD\")[:4] + \"****\")"
   ]
  },
  {
   "cell_type": "code",
   "execution_count": null,
   "id": "76ca275c",
   "metadata": {},
   "outputs": [],
   "source": []
  }
 ],
 "metadata": {
  "kernelspec": {
   "display_name": "ai-sprint",
   "language": "python",
   "name": "python3"
  },
  "language_info": {
   "codemirror_mode": {
    "name": "ipython",
    "version": 3
   },
   "file_extension": ".py",
   "mimetype": "text/x-python",
   "name": "python",
   "nbconvert_exporter": "python",
   "pygments_lexer": "ipython3",
   "version": "3.10.19"
  }
 },
 "nbformat": 4,
 "nbformat_minor": 5
}

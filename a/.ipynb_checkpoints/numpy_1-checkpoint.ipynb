{
 "cells": [
  {
   "cell_type": "code",
   "execution_count": 2,
   "id": "411b22db-bfce-4854-81bd-daa170257d3f",
   "metadata": {},
   "outputs": [
    {
     "name": "stdout",
     "output_type": "stream",
     "text": [
      "1D array: [1 2 3]\n",
      "2D array:\n",
      " [[1 2 3]\n",
      " [4 5 6]]\n",
      "3D array:\n",
      " [[[1 2]\n",
      "  [3 4]]\n",
      "\n",
      " [[5 6]\n",
      "  [7 8]]]\n",
      "Element-wise addition: [4 4 4]\n",
      "Reshaped array:\n",
      " [[1]\n",
      " [2]\n",
      " [3]]\n"
     ]
    }
   ],
   "source": [
    "import numpy as np\n",
    "# Create a simple numpy array\n",
    "x = np.array([1, 2, 3])\n",
    "# create a 2D array\n",
    "y = np.array([[1, 2, 3], [4, 5, 6]])\n",
    "# create a 3D array\n",
    "z = np.array([[[1, 2], [3, 4]], [[5, 6], [7, 8]]])\n",
    "print(\"1D array:\", x)\n",
    "print(\"2D array:\\n\", y)\n",
    "print(\"3D array:\\n\", z)\n",
    "\n",
    "\n",
    "# Element-wise addition of two arrays\n",
    "result = x + np.array([3, 2, 1])\n",
    "print(\"Element-wise addition:\", result)\n",
    "\n",
    "# Reshape a 1D array to 2D\n",
    "reshaped_y = x.reshape(3, 1)\n",
    "print(\"Reshaped array:\\n\", reshaped_y)\n"
   ]
  },
  {
   "cell_type": "code",
   "execution_count": null,
   "id": "1a195209-d521-42c3-8772-ffb0ebd696f8",
   "metadata": {},
   "outputs": [],
   "source": []
  }
 ],
 "metadata": {
  "kernelspec": {
   "display_name": "Python 3 (ipykernel)",
   "language": "python",
   "name": "python3"
  },
  "language_info": {
   "codemirror_mode": {
    "name": "ipython",
    "version": 3
   },
   "file_extension": ".py",
   "mimetype": "text/x-python",
   "name": "python",
   "nbconvert_exporter": "python",
   "pygments_lexer": "ipython3",
   "version": "3.10.19"
  }
 },
 "nbformat": 4,
 "nbformat_minor": 5
}

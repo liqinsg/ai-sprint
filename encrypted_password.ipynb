{
 "cells": [
  {
   "cell_type": "code",
   "execution_count": 6,
   "id": "2ec5e82c",
   "metadata": {},
   "outputs": [],
   "source": [
    "import crypt\n",
    "import getpass\n"
   ]
  },
  {
   "cell_type": "code",
   "execution_count": 7,
   "id": "b2661f04",
   "metadata": {},
   "outputs": [
    {
     "name": "stdout",
     "output_type": "stream",
     "text": [
      "$6$YiuMYU6se/ck3X/c$7TI4sc.IXHh6okeOWZeKL1nIbk4CD4FfAdRcg0MGXDM65ezx5pdySiEYzLsoIsXEFXRMqosXn22PGdtwuwDmd1\n"
     ]
    }
   ],
   "source": [
    "\n",
    "password = getpass.getpass(\"Enter password: \")\n",
    "hashed = crypt.crypt(password, crypt.mksalt(crypt.METHOD_SHA512))\n",
    "print(hashed)\n"
   ]
  },
  {
   "cell_type": "code",
   "execution_count": null,
   "id": "d662c0da",
   "metadata": {},
   "outputs": [],
   "source": []
  }
 ],
 "metadata": {
  "kernelspec": {
   "display_name": "ai-sprint",
   "language": "python",
   "name": "python3"
  },
  "language_info": {
   "codemirror_mode": {
    "name": "ipython",
    "version": 3
   },
   "file_extension": ".py",
   "mimetype": "text/x-python",
   "name": "python",
   "nbconvert_exporter": "python",
   "pygments_lexer": "ipython3",
   "version": "3.10.19"
  }
 },
 "nbformat": 4,
 "nbformat_minor": 5
}

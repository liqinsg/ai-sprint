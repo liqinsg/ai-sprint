{
 "cells": [
  {
   "cell_type": "code",
   "execution_count": 3,
   "id": "27425f61",
   "metadata": {},
   "outputs": [
    {
     "name": "stdout",
     "output_type": "stream",
     "text": [
      "[1 2 3 4 5]\n"
     ]
    }
   ],
   "source": [
    "import numpy as np\n",
    "# create a numpy array\n",
    "arr = np.array([1, 2, 3, 4, 5])\n",
    "print(arr)"
   ]
  },
  {
   "cell_type": "code",
   "execution_count": 21,
   "id": "6c5afa0e",
   "metadata": {},
   "outputs": [
    {
     "name": "stdout",
     "output_type": "stream",
     "text": [
      "[[0. 0. 0.]\n",
      " [0. 0. 0.]]\n",
      "[[1. 1. 1. 1.]\n",
      " [1. 1. 1. 1.]\n",
      " [1. 1. 1. 1.]]\n",
      "[[7 7]\n",
      " [7 7]]\n",
      "[[1. 0. 0.]\n",
      " [0. 1. 0.]\n",
      " [0. 0. 1.]]\n",
      "[[0.29744372 0.80170569 0.89746986]\n",
      " [0.92560421 0.73483292 0.57683226]]\n"
     ]
    }
   ],
   "source": [
    "# access single element\n",
    "a1_zero = np.zeros((2, 3))\n",
    "print(a1_zero) # 2D array of zeros with shape (2, 3)\n",
    "a2_one_array = np.ones((3, 4))\n",
    "print(a2_one_array) # 2D array of ones with shape (3, 4)\n",
    "a3_full_array = np.full((2, 2), 7)\n",
    "print(a3_full_array) # 2D array filled with 7s with shape (2, 2)\n",
    "a4_eye = np.eye(3)\n",
    "print(a4_eye) # 3x3 identity matrix\n",
    "a5_random = np.random.rand(2, 3)\n",
    "print(a5_random) # 2D array with random values between 0 and 1  "
   ]
  },
  {
   "cell_type": "code",
   "execution_count": 17,
   "id": "50a201bc",
   "metadata": {},
   "outputs": [
    {
     "name": "stdout",
     "output_type": "stream",
     "text": [
      "Element at index 2: 30\n"
     ]
    }
   ],
   "source": [
    "# create a 1D array of zeros, ones, a range of numbers, and random numbers\n",
    "arr1d = np.array([10, 20, 30, 40, 50])\n",
    "# single element access\n",
    "elem = arr1d[2]\n",
    "print(\"Element at index 2:\", elem) # Output: 30"
   ]
  },
  {
   "cell_type": "code",
   "execution_count": 18,
   "id": "83ae11df",
   "metadata": {},
   "outputs": [
    {
     "name": "stdout",
     "output_type": "stream",
     "text": [
      "Element at row 1, column 2: 6\n"
     ]
    }
   ],
   "source": [
    "# Create a 2D array\n",
    "arr2d = np.array([[1, 2, 3], [4, 5, 6], [7, 8, 9]])\n",
    "# access element at row 1, column 2\n",
    "elem_2d = arr2d[1, 2]\n",
    "print(\"Element at row 1, column 2:\", elem_2d) # Output: 6\n",
    "\n"
   ]
  },
  {
   "cell_type": "code",
   "execution_count": 19,
   "id": "2ea371ca",
   "metadata": {},
   "outputs": [
    {
     "name": "stdout",
     "output_type": "stream",
     "text": [
      "Element at [1, 0, 1]: 6\n"
     ]
    }
   ],
   "source": [
    "# Multidimensional array access\n",
    "arr3d = np.array([[[1, 2], [3, 4]], [[5, 6], [7, 8]]])\n",
    "elem_3d = arr3d[1, 0, 1]\n",
    "print(\"Element at [1, 0, 1]:\", elem_3d)"
   ]
  },
  {
   "cell_type": "code",
   "execution_count": 20,
   "id": "ef64bd89",
   "metadata": {},
   "outputs": [
    {
     "name": "stdout",
     "output_type": "stream",
     "text": [
      "Slice of 1D array from index 1 to 3: [20 30 40]\n",
      "Slice of 2D array rows 0-1 and columns 1-2:\n",
      " [[2 3]\n",
      " [5 6]]\n"
     ]
    }
   ],
   "source": [
    "# Slicing examples\n",
    "slice_1d = arr1d[1:4]\n",
    "print(\"Slice of 1D array from index 1 to 3:\", slice_1d)\n",
    "slice_2d = arr2d[0:2, 1:3]\n",
    "print(\"Slice of 2D array rows 0-1 and columns 1-2:\\n\", slice_2d)"
   ]
  },
  {
   "cell_type": "code",
   "execution_count": 23,
   "id": "bf6c275a",
   "metadata": {},
   "outputs": [
    {
     "name": "stdout",
     "output_type": "stream",
     "text": [
      "Elements greater than 25 in arr1d: [30 40 50]\n"
     ]
    }
   ],
   "source": [
    "# Boolean indexing\n",
    "bool_idx = arr1d > 25\n",
    "filtered_arr = arr1d[bool_idx]\n",
    "print(\"Elements greater than 25 in arr1d:\", filtered_arr)"
   ]
  },
  {
   "cell_type": "code",
   "execution_count": 24,
   "id": "9dd08f15",
   "metadata": {},
   "outputs": [
    {
     "name": "stdout",
     "output_type": "stream",
     "text": [
      "Elements at indices 0, 2, 4: [10 30 50]\n"
     ]
    }
   ],
   "source": [
    "# Fancy indexing\n",
    "fancy_idx = [0, 2, 4]\n",
    "fancy_elements = arr1d[fancy_idx]\n",
    "print(\"Elements at indices 0, 2, 4:\", fancy_elements)"
   ]
  },
  {
   "cell_type": "code",
   "execution_count": 25,
   "id": "af1b7ce7",
   "metadata": {},
   "outputs": [
    {
     "name": "stdout",
     "output_type": "stream",
     "text": [
      "Modified arr1d: [99 20 30 40 50]\n",
      "Modified arr2d:\n",
      " [[ 1  2  3]\n",
      " [ 4 55  6]\n",
      " [ 7  8  9]]\n"
     ]
    }
   ],
   "source": [
    "# Modifying array elements\n",
    "arr1d[0] = 99\n",
    "print(\"Modified arr1d:\", arr1d)\n",
    "arr2d[1, 1] = 55\n",
    "print(\"Modified arr2d:\\n\", arr2d)"
   ]
  },
  {
   "cell_type": "code",
   "execution_count": 26,
   "id": "32d8f81e",
   "metadata": {},
   "outputs": [
    {
     "name": "stdout",
     "output_type": "stream",
     "text": [
      "Modified arr1d after slicing assignment: [99 88 77 40 50]\n",
      "Modified arr2d after slicing assignment:\n",
      " [[11 22  3]\n",
      " [33 44  6]\n",
      " [ 7  8  9]]\n"
     ]
    }
   ],
   "source": [
    "# Using slicing to modify multiple elements\n",
    "arr1d[1:3] = [88, 77]\n",
    "print(\"Modified arr1d after slicing assignment:\", arr1d)\n",
    "arr2d[0:2, 0:2] = [[11, 22], [33, 44]]\n",
    "print(\"Modified arr2d after slicing assignment:\\n\", arr2d)"
   ]
  },
  {
   "cell_type": "code",
   "execution_count": 27,
   "id": "10718318",
   "metadata": {},
   "outputs": [
    {
     "name": "stdout",
     "output_type": "stream",
     "text": [
      "Modified arr1d after boolean indexing assignment: [99 88 77  0 50]\n",
      "Modified arr2d after boolean indexing assignment:\n",
      " [[11 22  3]\n",
      " [99 99  6]\n",
      " [ 7  8  9]]\n"
     ]
    }
   ],
   "source": [
    "# Boolean indexing to modify elements\n",
    "arr1d[arr1d < 50] = 0\n",
    "print(\"Modified arr1d after boolean indexing assignment:\", arr1d)\n",
    "arr2d[arr2d > 30] = 99\n",
    "print(\"Modified arr2d after boolean indexing assignment:\\n\", arr2d)"
   ]
  },
  {
   "cell_type": "code",
   "execution_count": 29,
   "id": "ea5c1b10",
   "metadata": {},
   "outputs": [
    {
     "name": "stdout",
     "output_type": "stream",
     "text": [
      "Modified arr1d after fancy indexing assignment: [ 1 88  2  0  3]\n",
      "Modified arr2d after fancy indexing assignment:\n",
      " [[11  7  3]\n",
      " [99 99  6]\n",
      " [ 7  8  8]]\n"
     ]
    }
   ],
   "source": [
    "# Fancy indexing to modify specific elements\n",
    "arr1d[fancy_idx] = [1, 2, 3]\n",
    "print(\"Modified arr1d after fancy indexing assignment:\", arr1d)\n",
    "arr2d[[0, 2], [1, 2]] = [7, 8]\n",
    "print(\"Modified arr2d after fancy indexing assignment:\\n\", arr2d)"
   ]
  },
  {
   "cell_type": "code",
   "execution_count": 32,
   "id": "d7c13172",
   "metadata": {},
   "outputs": [
    {
     "name": "stdout",
     "output_type": "stream",
     "text": [
      "Absolute value: [3 1 0 1 3]\n",
      "Sine values: [0.0000000e+00 1.0000000e+00 1.2246468e-16]\n",
      "Exponential values: [1.         2.71828183 7.3890561 ]\n",
      "Square root values: [0. 1. 2. 3.]\n",
      "Natural logarithm values: [0. 1. 2.]\n",
      "Addition result: [5 7 9]\n",
      "Subtraction result: [-3 -3 -3]\n",
      "Multiplication result: [ 4 10 18]\n",
      "Division result: [0.25 0.4  0.5 ]\n"
     ]
    }
   ],
   "source": [
    "# Example array with both positive and negative values\n",
    "arr = np.array([-3, -1, 0, 1, 3])\n",
    "# Applying a unary operation: absolute value\n",
    "result = np.absolute(arr)\n",
    "print(\"Absolute value:\", result)\n",
    "# create an array of sine values\n",
    "a = np.array([0, np.pi/2, np.pi])\n",
    "sine_values = np.sin(a)\n",
    "print(\"Sine values:\", sine_values)\n",
    "# create an array and compute its exponential\n",
    "b = np.array([0, 1, 2])\n",
    "exp_values = np.exp(b)\n",
    "print(\"Exponential values:\", exp_values)\n",
    "# square root of an array\n",
    "c = np.array([0, 1, 4, 9])\n",
    "sqrt_values = np.sqrt(c)\n",
    "print(\"Square root values:\", sqrt_values)\n",
    "# natural logarithm of an array\n",
    "d = np.array([1, np.e, np.e**2])\n",
    "log_values = np.log(d)\n",
    "print(\"Natural logarithm values:\", log_values)\n",
    "# create two arrays for binary operations\n",
    "x = np.array([1, 2, 3])\n",
    "y = np.array([4, 5, 6])\n",
    "# addition\n",
    "add_result = np.add(x, y)\n",
    "print(\"Addition result:\", add_result)\n",
    "# subtraction\n",
    "sub_result = np.subtract(x, y)\n",
    "print(\"Subtraction result:\", sub_result)\n",
    "# multiplication\n",
    "mul_result = np.multiply(x, y)\n",
    "print(\"Multiplication result:\", mul_result)\n",
    "# division\n",
    "div_result = np.divide(x, y)\n",
    "print(\"Division result:\", div_result)"
   ]
  },
  {
   "cell_type": "code",
   "execution_count": null,
   "id": "22ddc19e",
   "metadata": {},
   "outputs": [
    {
     "name": "stdout",
     "output_type": "stream",
     "text": [
      "Students array: [(b'Alice', 2020, 3.5) (b'Bob', 2019, 3.7) (b'Charlie', 2021, 3.8)]\n"
     ]
    }
   ],
   "source": [
    "# set alias names for dtypes\n",
    "dtypes = [('name', 'S10'), ('grad_year', int), ('cgpa', float)]\n",
    "# create an array with structured dtypes\n",
    "students = np.array([(b'Alice', 2020, 3.5),\n",
    "                     (b'Bob', 2019, 3.7),\n",
    "                     (b'Charlie', 2021, 3.8)], dtype=dtypes)\n",
    "print(\"Students array:\", students)"
   ]
  },
  {
   "cell_type": "code",
   "execution_count": null,
   "id": "4be33790",
   "metadata": {},
   "outputs": [],
   "source": []
  }
 ],
 "metadata": {
  "kernelspec": {
   "display_name": "ai-sprint",
   "language": "python",
   "name": "python3"
  },
  "language_info": {
   "codemirror_mode": {
    "name": "ipython",
    "version": 3
   },
   "file_extension": ".py",
   "mimetype": "text/x-python",
   "name": "python",
   "nbconvert_exporter": "python",
   "pygments_lexer": "ipython3",
   "version": "3.10.19"
  }
 },
 "nbformat": 4,
 "nbformat_minor": 5
}

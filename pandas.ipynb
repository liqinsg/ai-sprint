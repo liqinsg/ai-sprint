{
 "cells": [
  {
   "cell_type": "code",
   "execution_count": 2,
   "id": "8c55bf30",
   "metadata": {},
   "outputs": [
    {
     "name": "stdout",
     "output_type": "stream",
     "text": [
      "Empty Series with dtype float64:\n",
      " Series([], dtype: float64)\n"
     ]
    }
   ],
   "source": [
    "import numpy as np\n",
    "import pandas as pd\n",
    "import matplotlib.pyplot as plt\n",
    "import seaborn as sns\n",
    "# Empty Series with specified dtype\n",
    "ser = pd.Series(dtype='float64')\n",
    "print(\"Empty Series with dtype float64:\\n\", ser)"
   ]
  },
  {
   "cell_type": "code",
   "execution_count": 5,
   "id": "da503a25",
   "metadata": {},
   "outputs": [
    {
     "name": "stdout",
     "output_type": "stream",
     "text": [
      "NumPy Array:\n",
      " ['g' 'e' 'e' 'k' 's']\n",
      "Pandas Series:\n",
      " 0    g\n",
      "1    e\n",
      "2    e\n",
      "3    k\n",
      "4    s\n",
      "dtype: object\n",
      "Pandas Series with custom index:\n",
      " a    g\n",
      "b    e\n",
      "c    e\n",
      "d    k\n",
      "e    s\n",
      "dtype: object\n"
     ]
    }
   ],
   "source": [
    "# Series from a NumPy array\n",
    "data = np.array(['g', 'e', 'e', 'k', 's']) \n",
    "print(\"NumPy Array:\\n\", data)\n",
    "ser = pd.Series(data) \n",
    "print(\"Pandas Series:\\n\", ser)\n",
    "ser = pd.Series(data, index=['a', 'b', 'c', 'd', 'e'])\n",
    "print(\"Pandas Series with custom index:\\n\", ser)"
   ]
  },
  {
   "cell_type": "code",
   "execution_count": 6,
   "id": "cdfb32c3",
   "metadata": {},
   "outputs": [
    {
     "name": "stdout",
     "output_type": "stream",
     "text": [
      "Pandas Series from dictionary:\n",
      " BMW      3\n",
      "VOLVO    7\n",
      "FORD     2\n",
      "Geek     4\n",
      "dtype: int64\n"
     ]
    }
   ],
   "source": [
    "mydataset = {'BMW': 3, 'VOLVO': 7, 'FORD':2,'Geek': 4}\n",
    "ser2 = pd.Series(mydataset)\n",
    "print(\"Pandas Series from dictionary:\\n\", ser2)"
   ]
  },
  {
   "cell_type": "code",
   "execution_count": 12,
   "id": "1b3b60d6",
   "metadata": {},
   "outputs": [
    {
     "name": "stdout",
     "output_type": "stream",
     "text": [
      "DataFrame Head:\n",
      "     Device        Port        In       Out            Description\n",
      "0  nassw01  25GE1/0/28         0  2.58Kbps       CESX11-21.iSCSI1\n",
      "1  nassw01  25GE1/0/32         0  2.58Kbps  D2.CONTESX-P03.iSCSI1\n",
      "2  nassw01  25GE1/0/31     24bps  2.58Kbps  D2.XEN-VDI-P03.iSCSI1\n",
      "3  nassw01  25GE1/0/20    200bps  2.38Kbps    D7.NIEHOST13.Stor_3\n",
      "4  nassw01  25GE1/0/30  2.11Kbps   3.9Kbps  D2.XEN-VDI-P01.iSCSI1\n",
      "<class 'pandas.core.frame.DataFrame'>\n",
      "RangeIndex: 32 entries, 0 to 31\n",
      "Data columns (total 5 columns):\n",
      " #   Column       Non-Null Count  Dtype \n",
      "---  ------       --------------  ----- \n",
      " 0   Device       32 non-null     object\n",
      " 1   Port         32 non-null     object\n",
      " 2   In           32 non-null     object\n",
      " 3   Out          32 non-null     object\n",
      " 4   Description  32 non-null     object\n",
      "dtypes: object(5)\n",
      "memory usage: 1.4+ KB\n",
      "DataFrame Info:\n",
      " None\n",
      "DataFrame Description:\n",
      "          Device        Port  In       Out       Description\n",
      "count        32          32  32        32                32\n",
      "unique        1          32  31        30                32\n",
      "top     nassw01  25GE1/0/28   0  2.58Kbps  CESX11-21.iSCSI1\n",
      "freq         32           1   2         3                 1\n"
     ]
    }
   ],
   "source": [
    "df = pd.read_csv('data.csv')  # assuming 'data.csv' is your data file\n",
    "print(\"DataFrame Head:\\n\", df.head())\n",
    "print(\"DataFrame Info:\\n\", df.info())\n",
    "print(\"DataFrame Description:\\n\", df.describe())"
   ]
  },
  {
   "cell_type": "code",
   "execution_count": null,
   "id": "3960994f",
   "metadata": {},
   "outputs": [],
   "source": []
  }
 ],
 "metadata": {
  "kernelspec": {
   "display_name": "ai-sprint",
   "language": "python",
   "name": "python3"
  },
  "language_info": {
   "codemirror_mode": {
    "name": "ipython",
    "version": 3
   },
   "file_extension": ".py",
   "mimetype": "text/x-python",
   "name": "python",
   "nbconvert_exporter": "python",
   "pygments_lexer": "ipython3",
   "version": "3.10.19"
  }
 },
 "nbformat": 4,
 "nbformat_minor": 5
}

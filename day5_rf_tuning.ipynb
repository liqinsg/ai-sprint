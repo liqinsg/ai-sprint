{
 "cells": [
  {
   "cell_type": "code",
   "execution_count": 1,
   "id": "ea4040f3",
   "metadata": {},
   "outputs": [],
   "source": [
    "import pandas as pd\n",
    "from sklearn.model_selection import train_test_split, GridSearchCV\n",
    "from sklearn.preprocessing import StandardScaler\n",
    "from sklearn.pipeline import Pipeline\n",
    "from sklearn.ensemble import RandomForestClassifier\n",
    "from sklearn.metrics import accuracy_score, classification_report\n",
    "import mlflow, mlflow.sklearn\n",
    "\n",
    "url = \"https://raw.githubusercontent.com/mwaskom/seaborn-data/master/penguins.csv\"\n",
    "df = pd.read_csv(url).dropna(subset=[\"species\",\"bill_length_mm\",\"bill_depth_mm\",\n",
    "                                     \"flipper_length_mm\",\"body_mass_g\"])\n",
    "X = df[[\"bill_length_mm\",\"bill_depth_mm\",\"flipper_length_mm\",\"body_mass_g\"]]\n",
    "y = df[\"species\"]\n",
    "\n",
    "X_train, X_test, y_train, y_test = train_test_split(X, y, test_size=0.2,\n",
    "                                                    random_state=42, stratify=y)"
   ]
  },
  {
   "cell_type": "code",
   "execution_count": 2,
   "id": "6fea3703",
   "metadata": {},
   "outputs": [],
   "source": [
    "pipe = Pipeline([\n",
    "    (\"scaler\", StandardScaler()),\n",
    "    (\"clf\",    RandomForestClassifier(random_state=42))\n",
    "])\n",
    "\n",
    "param_grid = {\n",
    "    \"clf__n_estimators\": [100, 300],\n",
    "    \"clf__max_depth\":    [None, 5, 10],\n",
    "    \"clf__min_samples_split\": [2, 4]\n",
    "}"
   ]
  },
  {
   "cell_type": "code",
   "execution_count": 3,
   "id": "cf4303c2",
   "metadata": {},
   "outputs": [
    {
     "name": "stderr",
     "output_type": "stream",
     "text": [
      "2025/10/26 12:43:09 INFO mlflow.tracking.fluent: Experiment with name 'ai-sprint-day5' does not exist. Creating a new experiment.\n",
      "2025/10/26 12:43:47 WARNING mlflow.models.model: `artifact_path` is deprecated. Please use `name` instead.\n"
     ]
    },
    {
     "name": "stdout",
     "output_type": "stream",
     "text": [
      "Best CV acc : 0.9744107744107744\n",
      "Test acc    : 1.0\n",
      "Best params : {'clf__max_depth': None, 'clf__min_samples_split': 2, 'clf__n_estimators': 300}\n"
     ]
    },
    {
     "name": "stderr",
     "output_type": "stream",
     "text": [
      "Successfully registered model 'PenguinRF'.\n",
      "Created version '1' of model 'PenguinRF'.\n"
     ]
    }
   ],
   "source": [
    "mlflow.set_experiment(\"ai-sprint-day5\")\n",
    "\n",
    "with mlflow.start_run() as run:\n",
    "    search = GridSearchCV(pipe, param_grid, cv=5, scoring=\"accuracy\", n_jobs=-1)\n",
    "    search.fit(X_train, y_train)\n",
    "\n",
    "    best_model = search.best_estimator_\n",
    "    y_pred = best_model.predict(X_test)\n",
    "\n",
    "    # log params & metrics\n",
    "    mlflow.log_params(search.best_params_)\n",
    "    mlflow.log_metric(\"cv_best_score\", search.best_score_)\n",
    "    mlflow.log_metric(\"test_accuracy\", accuracy_score(y_test, y_pred))\n",
    "\n",
    "    # register the model (creates a versioned entity in MLflow)\n",
    "    mlflow.sklearn.log_model(\n",
    "        best_model,\n",
    "        \"model\",\n",
    "        registered_model_name=\"PenguinRF\",   # <= appears in MLflow UI\n",
    "        input_example=X_test.iloc[[0]]\n",
    "    )\n",
    "\n",
    "print(\"Best CV acc :\", search.best_score_)\n",
    "print(\"Test acc    :\", accuracy_score(y_test, y_pred))\n",
    "print(\"Best params :\", search.best_params_)\n"
   ]
  },
  {
   "cell_type": "code",
   "execution_count": 4,
   "id": "77e62cbe",
   "metadata": {},
   "outputs": [
    {
     "name": "stdout",
     "output_type": "stream",
     "text": [
      "Tuned Random-Forest pipeline saved → penguin_rf_tuned.pkl\n"
     ]
    }
   ],
   "source": [
    "import joblib\n",
    "joblib.dump(best_model, \"penguin_rf_tuned.pkl\")\n",
    "print(\"Tuned Random-Forest pipeline saved → penguin_rf_tuned.pkl\")"
   ]
  },
  {
   "cell_type": "code",
   "execution_count": null,
   "id": "673526f4",
   "metadata": {},
   "outputs": [],
   "source": []
  }
 ],
 "metadata": {
  "kernelspec": {
   "display_name": "ai-sprint",
   "language": "python",
   "name": "python3"
  },
  "language_info": {
   "codemirror_mode": {
    "name": "ipython",
    "version": 3
   },
   "file_extension": ".py",
   "mimetype": "text/x-python",
   "name": "python",
   "nbconvert_exporter": "python",
   "pygments_lexer": "ipython3",
   "version": "3.10.19"
  }
 },
 "nbformat": 4,
 "nbformat_minor": 5
}
